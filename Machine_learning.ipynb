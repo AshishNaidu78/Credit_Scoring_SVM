{
  "nbformat": 4,
  "nbformat_minor": 0,
  "metadata": {
    "colab": {
      "provenance": [],
      "authorship_tag": "ABX9TyPpzPjN5qO1rCRIJZMxKk6m",
      "include_colab_link": true
    },
    "kernelspec": {
      "name": "python3",
      "display_name": "Python 3"
    },
    "language_info": {
      "name": "python"
    }
  },
  "cells": [
    {
      "cell_type": "markdown",
      "metadata": {
        "id": "view-in-github",
        "colab_type": "text"
      },
      "source": [
        "<a href=\"https://colab.research.google.com/github/AshishNaidu78/Credit_Scoring_SVM/blob/master/Machine_learning.ipynb\" target=\"_parent\"><img src=\"https://colab.research.google.com/assets/colab-badge.svg\" alt=\"Open In Colab\"/></a>"
      ]
    },
    {
      "cell_type": "code",
      "execution_count": 1,
      "metadata": {
        "colab": {
          "base_uri": "https://localhost:8080/"
        },
        "id": "zQ3jILIdL8Vj",
        "outputId": "73690cb1-b7c3-46f2-e4d6-983a10533b1c"
      },
      "outputs": [
        {
          "output_type": "stream",
          "name": "stdout",
          "text": [
            "Enter a list of numbers separated by commas: 5,4,6,8,3,2,0\n",
            "Enter the target sum: 8\n",
            "Number of pairs with sum 8: 3\n"
          ]
        }
      ],
      "source": [
        "def compute_count_pairs(lst, target_sum):\n",
        "    count = 0\n",
        "    seen_numbers = set()\n",
        "\n",
        "    for num in lst:\n",
        "        complement = target_sum - num\n",
        "        if complement in seen_numbers:\n",
        "            count += 1\n",
        "        seen_numbers.add(num)\n",
        "\n",
        "    return count\n",
        "\n",
        "def main():\n",
        "    # User input for the list of numbers\n",
        "    user_input = input(\"Enter a list of numbers separated by commas: \")\n",
        "\n",
        "    # Convert the user input string to a list of integers\n",
        "    input_list = [int(num) for num in user_input.split(',')]\n",
        "\n",
        "    # User input for the target sum\n",
        "    target_sum = int(input(\"Enter the target sum: \"))\n",
        "\n",
        "    # Calculate the number of pairs with the target sum\n",
        "    result = compute_count_pairs(input_list, target_sum)\n",
        "\n",
        "    # Display the result\n",
        "    print(f\"Number of pairs with sum {target_sum}: {result}\")\n",
        "\n",
        "if __name__ == \"__main__\":\n",
        "    main()\n"
      ]
    },
    {
      "cell_type": "code",
      "source": [
        "def compute_range(numbers):\n",
        "    if len(numbers) < 3:\n",
        "        return None  # Error: Range determination not possible for lists with less than 3 elements\n",
        "\n",
        "    # Calculate and return the range\n",
        "    return max(numbers) - min(numbers)\n",
        "\n",
        "def display_result(range_value):\n",
        "    if range_value is None:\n",
        "        print(\"Error: Range determination not possible for lists with less than 3 elements.\")\n",
        "    else:\n",
        "        print(f\"The range of the list is: {range_value}\")\n",
        "\n",
        "def main():\n",
        "    # User input for the list of numbers\n",
        "    user_input = input(\"Enter a list of numbers separated by commas: \")\n",
        "\n",
        "    # Convert the user input string to a list of integers\n",
        "    input_list = [int(num) for num in user_input.split(',')]\n",
        "\n",
        "    # Step 1: Compute the range\n",
        "    result_range = compute_range(input_list)\n",
        "\n",
        "    # Step 2: Display the result or an error message\n",
        "    display_result(result_range)\n",
        "\n",
        "if __name__ == \"__main__\":\n",
        "    main()\n"
      ],
      "metadata": {
        "colab": {
          "base_uri": "https://localhost:8080/"
        },
        "id": "x2cthAgBMUr2",
        "outputId": "6c4512c2-1233-4e7c-94a6-a9be871c58e9"
      },
      "execution_count": 2,
      "outputs": [
        {
          "output_type": "stream",
          "name": "stdout",
          "text": [
            "Enter a list of numbers separated by commas: 5,6,4,3,2,8,1,0\n",
            "The range of the list is: 8\n"
          ]
        }
      ]
    },
    {
      "cell_type": "code",
      "source": [
        "import numpy as np\n",
        "\n",
        "def matrix_power(matrix, exponent):\n",
        "    result_matrix = np.linalg.matrix_power(matrix, exponent)\n",
        "    return result_matrix\n",
        "\n",
        "def main():\n",
        "    # User input for the square matrix\n",
        "    matrix_rows = int(input(\"Enter the number of rows for the square matrix: \"))\n",
        "    matrix_cols = int(input(\"Enter the number of columns for the square matrix: \"))\n",
        "    matrix_A = np.zeros((matrix_rows, matrix_cols))\n",
        "\n",
        "    print(\"Enter the elements of the matrix:\")\n",
        "    for i in range(matrix_rows):\n",
        "        for j in range(matrix_cols):\n",
        "            matrix_A[i, j] = float(input(f\"Enter element at position ({i+1}, {j+1}): \"))\n",
        "\n",
        "    # User input for the positive integer exponent\n",
        "    exponent_m = int(input(\"Enter a positive integer exponent: \"))\n",
        "\n",
        "    # Step 1: Calculate the matrix power\n",
        "    result_matrix = matrix_power(matrix_A, exponent_m)\n",
        "\n",
        "    # Step 2: Display the result\n",
        "    print(f\"A^{exponent_m} =\")\n",
        "    print(result_matrix)\n",
        "\n",
        "if __name__ == \"__main__\":\n",
        "    main()\n"
      ],
      "metadata": {
        "colab": {
          "base_uri": "https://localhost:8080/"
        },
        "id": "g4lt4CbAMjCb",
        "outputId": "ea7d8030-388a-4880-f1ec-1aaef7f78fdb"
      },
      "execution_count": 3,
      "outputs": [
        {
          "output_type": "stream",
          "name": "stdout",
          "text": [
            "Enter the number of rows for the square matrix: 2\n",
            "Enter the number of columns for the square matrix: 2\n",
            "Enter the elements of the matrix:\n",
            "Enter element at position (1, 1): 3\n",
            "Enter element at position (1, 2): 5\n",
            "Enter element at position (2, 1): 2\n",
            "Enter element at position (2, 2): 1\n",
            "Enter a positive integer exponent: 4\n",
            "A^4 =\n",
            "[[521. 600.]\n",
            " [240. 281.]]\n"
          ]
        }
      ]
    },
    {
      "cell_type": "code",
      "source": [
        "def count_highest_occurrence(input_string):\n",
        "\n",
        "    # Create a dictionary to store the count of each character\n",
        "    char_count = {}\n",
        "\n",
        "    # Count occurrences of each character in the input string\n",
        "    for char in input_string:\n",
        "        if char.isalpha():\n",
        "            char_count[char] = char_count.get(char, 0) + 1\n",
        "\n",
        "    # Find the character with the maximum occurrence\n",
        "    max_char = max(char_count, key=char_count.get)\n",
        "    max_occurrence = char_count[max_char]\n",
        "\n",
        "    return max_char, max_occurrence\n",
        "\n",
        "def main():\n",
        "    # User input for the string\n",
        "    input_str = input(\"Enter a string containing only alphabets: \")\n",
        "\n",
        "    # Step 1: Count the highest occurring character and its occurrence count\n",
        "    result_char, result_count = count_highest_occurrence(input_str)\n",
        "\n",
        "    # Step 2: Display the result\n",
        "    print(f\"The highest occurring character is '{result_char}' with occurrence count: {result_count}\")\n",
        "\n",
        "if __name__ == \"__main__\":\n",
        "    main()\n"
      ],
      "metadata": {
        "colab": {
          "base_uri": "https://localhost:8080/"
        },
        "id": "c1ZpAv3UM3q8",
        "outputId": "e8655d93-099d-414d-9043-864f46dfb7e5"
      },
      "execution_count": 4,
      "outputs": [
        {
          "output_type": "stream",
          "name": "stdout",
          "text": [
            "Enter a string containing only alphabets: AshishVakkapatla\n",
            "The highest occurring character is 'a' with occurrence count: 4\n"
          ]
        }
      ]
    }
  ]
}